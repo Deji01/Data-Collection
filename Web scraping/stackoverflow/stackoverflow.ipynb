{
 "cells": [
  {
   "cell_type": "code",
   "execution_count": 7,
   "id": "cf23c20d",
   "metadata": {},
   "outputs": [],
   "source": [
    "import pandas as pd\n",
    "import requests\n",
    "from requests_html import HTML\n",
    "import time"
   ]
  },
  {
   "cell_type": "code",
   "execution_count": 8,
   "id": "eb959015",
   "metadata": {},
   "outputs": [
    {
     "data": {
      "text/plain": [
       "'https://stackoverflow.com/questions/tagged/python'"
      ]
     },
     "execution_count": 8,
     "metadata": {},
     "output_type": "execute_result"
    }
   ],
   "source": [
    "base_url = 'https://stackoverflow.com/questions/tagged/'\n",
    "tag = 'python'\n",
    "url = f'{base_url}{tag}'\n",
    "url"
   ]
  },
  {
   "cell_type": "code",
   "execution_count": 9,
   "id": "c1345121",
   "metadata": {},
   "outputs": [],
   "source": [
    "def parse_tagged_page(html):\n",
    "    question_summaries = html.find('.question-summary')\n",
    "    key_names = ['question','votes','tags']\n",
    "    classes_needed = ['.question-hyperlink','.vote', '.tags']\n",
    "    data_list = []\n",
    "    for quest_ele in question_summaries:\n",
    "        question_data = {}\n",
    "        for i, _class in enumerate(classes_needed):\n",
    "            sub_ele = quest_ele.find(_class, first=True)\n",
    "            keyname = key_names[i]\n",
    "            question_data[keyname] = clean_scraped_data(sub_ele.text, keyname=keyname)\n",
    "        data_list.append(question_data)\n",
    "    return data_list"
   ]
  },
  {
   "cell_type": "code",
   "execution_count": 17,
   "id": "2858346c",
   "metadata": {},
   "outputs": [],
   "source": [
    "def extract_data_from_url(url):\n",
    "    response_ = requests.get(url)\n",
    "    if response_.status_code not in range(200,299):\n",
    "        return []\n",
    "    html_text = response_.text\n",
    "    html = HTML(html=html_text)\n",
    "    data = parse_tagged_page(html)\n",
    "    return data"
   ]
  },
  {
   "cell_type": "code",
   "execution_count": 18,
   "id": "937648ae",
   "metadata": {},
   "outputs": [],
   "source": [
    "def scrape_tag(tag='python', query_filter='Votes', max_pages=1, pagesize=25):\n",
    "    base_url = 'https://stackoverflow.com/questions/tagged/'\n",
    "    data_ = []\n",
    "    for p in range(max_pages):\n",
    "        page_num = p + 1\n",
    "        url = f'{base_url}{tag}?tab={query_filter}&page={page_num}&pagesize={pagesize}'\n",
    "        data_ += extract_data_from_url(url)\n",
    "        time.sleep(1.2)\n",
    "    return data_"
   ]
  },
  {
   "cell_type": "code",
   "execution_count": 19,
   "id": "bd1f161c",
   "metadata": {},
   "outputs": [
    {
     "data": {
      "text/html": [
       "<div>\n",
       "<style scoped>\n",
       "    .dataframe tbody tr th:only-of-type {\n",
       "        vertical-align: middle;\n",
       "    }\n",
       "\n",
       "    .dataframe tbody tr th {\n",
       "        vertical-align: top;\n",
       "    }\n",
       "\n",
       "    .dataframe thead th {\n",
       "        text-align: right;\n",
       "    }\n",
       "</style>\n",
       "<table border=\"1\" class=\"dataframe\">\n",
       "  <thead>\n",
       "    <tr style=\"text-align: right;\">\n",
       "      <th></th>\n",
       "    </tr>\n",
       "  </thead>\n",
       "  <tbody>\n",
       "  </tbody>\n",
       "</table>\n",
       "</div>"
      ],
      "text/plain": [
       "Empty DataFrame\n",
       "Columns: []\n",
       "Index: []"
      ]
     },
     "execution_count": 19,
     "metadata": {},
     "output_type": "execute_result"
    }
   ],
   "source": [
    "data = scrape_tag(tag='python')\n",
    "df  = pd.DataFrame(data)\n",
    "df.head()"
   ]
  },
  {
   "cell_type": "code",
   "execution_count": 13,
   "id": "c926119f",
   "metadata": {},
   "outputs": [
    {
     "data": {
      "text/plain": [
       "(0, 0)"
      ]
     },
     "execution_count": 13,
     "metadata": {},
     "output_type": "execute_result"
    }
   ],
   "source": [
    "df.shape"
   ]
  },
  {
   "cell_type": "code",
   "execution_count": 14,
   "id": "66290908",
   "metadata": {},
   "outputs": [],
   "source": [
    "df.to_csv('python_votes.csv', index=False)"
   ]
  },
  {
   "cell_type": "code",
   "execution_count": 23,
   "id": "52b0811b",
   "metadata": {},
   "outputs": [
    {
     "name": "stdout",
     "output_type": "stream",
     "text": [
      "200\n"
     ]
    },
    {
     "data": {
      "text/plain": [
       "<HTML url='https://example.org/'>"
      ]
     },
     "execution_count": 23,
     "metadata": {},
     "output_type": "execute_result"
    }
   ],
   "source": [
    "base_url = 'https://stackoverflow.com/questions/tagged/'\n",
    "tag = 'python'\n",
    "url = f'{base_url}{tag}'\n",
    "url\n",
    "response_ = requests.get(url)\n",
    "print(response_.status_code)\n",
    "html_text = response_.text\n",
    "html = HTML(html=html_text)\n",
    "html"
   ]
  },
  {
   "cell_type": "code",
   "execution_count": 27,
   "id": "c2df2ef7",
   "metadata": {},
   "outputs": [],
   "source": [
    "question_summaries = html.find('.question-summary')\n",
    "key_names = ['question','votes','tags']\n",
    "classes_needed = ['.question-hyperlink','.vote', '.tags']\n",
    "data_list = []\n",
    "for quest_ele in question_summaries:\n",
    "    print(quest_ele)\n",
    "#     question_data = {}\n",
    "#     for i, _class in enumerate(classes_needed):\n",
    "#         sub_ele = quest_ele.find(_class, first=True)\n",
    "#         keyname = key_names[i]\n",
    "#         question_data[keyname] = clean_scraped_data(sub_ele.text, keyname=keyname)\n",
    "#     data_list.append(question_data)\n",
    "# data_list"
   ]
  },
  {
   "cell_type": "code",
   "execution_count": 52,
   "id": "cdf45d70",
   "metadata": {},
   "outputs": [
    {
     "data": {
      "text/plain": [
       "'<span class=\"s-post-summary--stats-item-number mr4\">9</span>'"
      ]
     },
     "execution_count": 52,
     "metadata": {},
     "output_type": "execute_result"
    }
   ],
   "source": [
    "question_summaries = html.find('.s-post-summary')\n",
    "votes = html.find('.s-post-summary--stats-item-number')\n",
    "for object_ in html.find('.s-post-summary--stats-item-number'):\n",
    "    first = object_.find('.s-post-summary--stats-item-number', first=True)\n",
    "first.html"
   ]
  },
  {
   "cell_type": "code",
   "execution_count": null,
   "id": "1ef6d1cb",
   "metadata": {},
   "outputs": [],
   "source": [
    "<span class=\"s-post-summary--stats-item-number mr4\">220</span>"
   ]
  },
  {
   "cell_type": "code",
   "execution_count": null,
   "id": "4af234e9",
   "metadata": {},
   "outputs": [],
   "source": [
    "<span class=\"s-post-summary--stats-item-number mr4\">5</s<div class=\"s-post-summary--stats-item has-answers has-accepted-answer\" title=\"one of the answers was accepted as the correct answer\">flexpan>"
   ]
  },
  {
   "cell_type": "code",
   "execution_count": null,
   "id": "025d6954",
   "metadata": {},
   "outputs": [],
   "source": []
  },
  {
   "cell_type": "code",
   "execution_count": null,
   "id": "e88cc12b",
   "metadata": {},
   "outputs": [],
   "source": []
  }
 ],
 "metadata": {
  "kernelspec": {
   "display_name": "Python 3 (ipykernel)",
   "language": "python",
   "name": "python3"
  },
  "language_info": {
   "codemirror_mode": {
    "name": "ipython",
    "version": 3
   },
   "file_extension": ".py",
   "mimetype": "text/x-python",
   "name": "python",
   "nbconvert_exporter": "python",
   "pygments_lexer": "ipython3",
   "version": "3.9.1"
  }
 },
 "nbformat": 4,
 "nbformat_minor": 5
}
