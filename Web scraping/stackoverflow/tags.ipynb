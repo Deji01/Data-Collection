{
 "cells": [
  {
   "cell_type": "code",
   "execution_count": 167,
   "id": "81fcbeff",
   "metadata": {},
   "outputs": [],
   "source": [
    "import requests\n",
    "from requests_html import HTML\n",
    "import pandas as pd\n",
    "import time"
   ]
  },
  {
   "cell_type": "code",
   "execution_count": 168,
   "id": "36ce163f",
   "metadata": {},
   "outputs": [],
   "source": [
    "base_url = 'https://stackoverflow.com/questions/tagged/'\n",
    "tag = 'python'\n",
    "query_condition = 'Votes'\n",
    "# https://stackoverflow.com/questions/tagged/python?tab=Votes\n",
    "url =f'{base_url}{tag}?tab={query_condition}'"
   ]
  },
  {
   "cell_type": "code",
   "execution_count": 169,
   "id": "bd92e39c",
   "metadata": {},
   "outputs": [],
   "source": [
    "def parse_data(html):\n",
    "    summary_stats = html.find(\".js-post-summary-stats\")\n",
    "    summary_content = html.find(\".s-post-summary--content\")\n",
    "    posts_lst = []\n",
    "\n",
    "    for i in range(len(summary_content)):\n",
    "        post_dict = {}\n",
    "        post_dict[\"votes\"] = summary_stats[i].text.split(\"\\n\")[0].split(\"v\")[0]\n",
    "        post_dict[\"answers\"] = summary_stats[i].text.split(\"\\n\")[1].split(\"a\")[0]\n",
    "        post_dict[\"views\"] = summary_stats[i].text.split(\"\\n\")[2].split(\"v\")[0]\n",
    "        posts_dict[\"question_title\"] = summary_content[i].text.split(\"\\n\")[0]\n",
    "        post_dict[\"question\"] = summary_content[i].text.split(\"\\n\")[1]\n",
    "        post_dict[\"tags\"] = summary_content[i].text.split(\"\\n\")[2]\n",
    "        post_dict[\"user\"] = summary_content[i].text.split(\"\\n\")[4]\n",
    "        post_dict[\"user_reputation\"] = summary_content[i].text.split(\"\\n\")[5]\n",
    "        post_dict[\"time_asked\"] = summary_content[i].text.split(\"\\n\")[-1]\n",
    "\n",
    "        posts_lst.append(post_dict)\n",
    "        \n",
    "    return posts_lst"
   ]
  },
  {
   "cell_type": "code",
   "execution_count": 170,
   "id": "0c7290bc",
   "metadata": {},
   "outputs": [],
   "source": [
    "def extract_data_from_url(url):\n",
    "    r = requests.get(url)\n",
    "    if r.status_code not in range(200,300):\n",
    "        return []\n",
    "    html_text = r.text\n",
    "    html = HTML(html=html_text)\n",
    "    data = parse_data(html)\n",
    "    return data"
   ]
  },
  {
   "cell_type": "code",
   "execution_count": 171,
   "id": "d99a6f00",
   "metadata": {},
   "outputs": [],
   "source": [
    "def scrape_tag(tag='python', query_filter='Votes', max_pages=50, pagesize=25):\n",
    "    base_url = 'https://stackoverflow.com/questions/tagged/'\n",
    "    data_ = []\n",
    "    for p in range(max_pages):\n",
    "        page_num = p + 1\n",
    "        #     https://stackoverflow.com/questions/tagged/python?tab=votes&page=5&pagesize=15\n",
    "        url = f'{base_url}{tag}?tab={query_filter}&page={page_num}&pagesize={pagesize}'\n",
    "        data_ += extract_data_from_url(url)\n",
    "        time.sleep(1.2)\n",
    "    return data_"
   ]
  },
  {
   "cell_type": "code",
   "execution_count": 190,
   "id": "853fe6d7",
   "metadata": {},
   "outputs": [],
   "source": [
    "questions_data = scrape_tag(tag='python', query_filter='Votes', max_pages=50, pagesize=25)"
   ]
  },
  {
   "cell_type": "code",
   "execution_count": 192,
   "id": "9e901964",
   "metadata": {},
   "outputs": [
    {
     "data": {
      "text/html": [
       "<div>\n",
       "<style scoped>\n",
       "    .dataframe tbody tr th:only-of-type {\n",
       "        vertical-align: middle;\n",
       "    }\n",
       "\n",
       "    .dataframe tbody tr th {\n",
       "        vertical-align: top;\n",
       "    }\n",
       "\n",
       "    .dataframe thead th {\n",
       "        text-align: right;\n",
       "    }\n",
       "</style>\n",
       "<table border=\"1\" class=\"dataframe\">\n",
       "  <thead>\n",
       "    <tr style=\"text-align: right;\">\n",
       "      <th></th>\n",
       "      <th>votes</th>\n",
       "      <th>answers</th>\n",
       "      <th>views</th>\n",
       "      <th>question</th>\n",
       "      <th>tags</th>\n",
       "      <th>user</th>\n",
       "      <th>user_reputation</th>\n",
       "      <th>time_asked</th>\n",
       "    </tr>\n",
       "  </thead>\n",
       "  <tbody>\n",
       "    <tr>\n",
       "      <th>0</th>\n",
       "      <td>11879</td>\n",
       "      <td>47</td>\n",
       "      <td>2.8m</td>\n",
       "      <td>What is the use of the yield keyword in Python...</td>\n",
       "      <td>python iterator generator yield coroutine</td>\n",
       "      <td>Alex. S.</td>\n",
       "      <td>134k</td>\n",
       "      <td>asked Oct 23, 2008 at 22:21</td>\n",
       "    </tr>\n",
       "    <tr>\n",
       "      <th>1</th>\n",
       "      <td>6652</td>\n",
       "      <td>24</td>\n",
       "      <td>981k</td>\n",
       "      <td>In Python, what are metaclasses and what do we...</td>\n",
       "      <td>python oop metaclass python-class python-datam...</td>\n",
       "      <td>e-satis</td>\n",
       "      <td>544k</td>\n",
       "      <td>asked Sep 19, 2008 at 6:10</td>\n",
       "    </tr>\n",
       "    <tr>\n",
       "      <th>2</th>\n",
       "      <td>6545</td>\n",
       "      <td>42</td>\n",
       "      <td>4.8m</td>\n",
       "      <td>How do I check whether a file exists or not, w...</td>\n",
       "      <td>python file file-exists</td>\n",
       "      <td>spence91</td>\n",
       "      <td>72k</td>\n",
       "      <td>asked Sep 17, 2008 at 12:55</td>\n",
       "    </tr>\n",
       "    <tr>\n",
       "      <th>3</th>\n",
       "      <td>6165</td>\n",
       "      <td>56</td>\n",
       "      <td>2.6m</td>\n",
       "      <td>I have two Python dictionaries, and I want to ...</td>\n",
       "      <td>python dictionary merge</td>\n",
       "      <td>Carl Meyer</td>\n",
       "      <td>113k</td>\n",
       "      <td>asked Sep 2, 2008 at 7:44</td>\n",
       "    </tr>\n",
       "    <tr>\n",
       "      <th>4</th>\n",
       "      <td>5622</td>\n",
       "      <td>63</td>\n",
       "      <td>4.0m</td>\n",
       "      <td>How do you call an external command (as if I'd...</td>\n",
       "      <td>python shell terminal subprocess command</td>\n",
       "      <td>freshWoWer</td>\n",
       "      <td>57.9k</td>\n",
       "      <td>asked Sep 18, 2008 at 1:35</td>\n",
       "    </tr>\n",
       "  </tbody>\n",
       "</table>\n",
       "</div>"
      ],
      "text/plain": [
       "   votes answers views                                           question  \\\n",
       "0  11879      47  2.8m  What is the use of the yield keyword in Python...   \n",
       "1   6652      24  981k  In Python, what are metaclasses and what do we...   \n",
       "2   6545      42  4.8m  How do I check whether a file exists or not, w...   \n",
       "3   6165      56  2.6m  I have two Python dictionaries, and I want to ...   \n",
       "4   5622      63  4.0m  How do you call an external command (as if I'd...   \n",
       "\n",
       "                                                tags        user  \\\n",
       "0          python iterator generator yield coroutine    Alex. S.   \n",
       "1  python oop metaclass python-class python-datam...     e-satis   \n",
       "2                            python file file-exists    spence91   \n",
       "3                            python dictionary merge  Carl Meyer   \n",
       "4           python shell terminal subprocess command  freshWoWer   \n",
       "\n",
       "  user_reputation                   time_asked  \n",
       "0            134k  asked Oct 23, 2008 at 22:21  \n",
       "1            544k   asked Sep 19, 2008 at 6:10  \n",
       "2             72k  asked Sep 17, 2008 at 12:55  \n",
       "3            113k    asked Sep 2, 2008 at 7:44  \n",
       "4           57.9k   asked Sep 18, 2008 at 1:35  "
      ]
     },
     "execution_count": 192,
     "metadata": {},
     "output_type": "execute_result"
    }
   ],
   "source": [
    "questions_df = pd.DataFrame(questions_data)\n",
    "drop_data = (questions_df['time_asked'] == 'Devoted') | (questions_df['user_reputation'] == 'Devoted') | (questions_df['user'] == 'Devoted')\n",
    "questions_df = questions_df[~drop_data].reset_index(drop=True)\n",
    "questions_df.head()"
   ]
  },
  {
   "cell_type": "code",
   "execution_count": 193,
   "id": "517d869d",
   "metadata": {},
   "outputs": [
    {
     "data": {
      "text/plain": [
       "(2498, 8)"
      ]
     },
     "execution_count": 193,
     "metadata": {},
     "output_type": "execute_result"
    }
   ],
   "source": [
    "questions_df.shape"
   ]
  },
  {
   "cell_type": "code",
   "execution_count": 194,
   "id": "77d02865",
   "metadata": {},
   "outputs": [],
   "source": [
    "questions_df.to_csv('stackoverflow_questions.csv', index=False)"
   ]
  }
 ],
 "metadata": {
  "kernelspec": {
   "display_name": "Python 3 (ipykernel)",
   "language": "python",
   "name": "python3"
  },
  "language_info": {
   "codemirror_mode": {
    "name": "ipython",
    "version": 3
   },
   "file_extension": ".py",
   "mimetype": "text/x-python",
   "name": "python",
   "nbconvert_exporter": "python",
   "pygments_lexer": "ipython3",
   "version": "3.9.1"
  }
 },
 "nbformat": 4,
 "nbformat_minor": 5
}
