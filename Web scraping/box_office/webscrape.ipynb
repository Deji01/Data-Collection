{
 "cells": [
  {
   "cell_type": "code",
   "execution_count": 1,
   "id": "4236a20c",
   "metadata": {},
   "outputs": [],
   "source": [
    "import datetime\n",
    "import os\n",
    "import pandas as pd\n",
    "import requests\n",
    "from requests_html import HTML"
   ]
  },
  {
   "cell_type": "code",
   "execution_count": 2,
   "id": "743f0e39",
   "metadata": {},
   "outputs": [],
   "source": [
    "def url_to_txt(url, filename=None, save=False):\n",
    "    response = requests.get(url)\n",
    "    if response.status_code == 200:\n",
    "        html_text = response.text\n",
    "        if save:\n",
    "            with open(filename, 'w') as f:\n",
    "                f.write(html_text)\n",
    "        return html_text\n",
    "    return None"
   ]
  },
  {
   "cell_type": "code",
   "execution_count": 3,
   "id": "023eae7d",
   "metadata": {},
   "outputs": [],
   "source": [
    "def parse_and_extract(url, name):\n",
    "    html_text = url_to_txt(url)\n",
    "    if html_text == None:\n",
    "        return False\n",
    "    html_result = HTML(html=html_text)\n",
    "    \n",
    "    table_result = html_result.find(table_class)\n",
    "    table_data = []\n",
    "    table_data_list = []\n",
    "    header_names = []\n",
    "    if len(table_result) == 0:\n",
    "        return False\n",
    "    parsed_table = table_result[0]\n",
    "    rows = parsed_table.find('tr')\n",
    "    header_row = rows[0]\n",
    "    header_cols = header_row.find('th')\n",
    "    header_names = [x.text for x in header_cols]\n",
    "    for row in rows[1:]:\n",
    "        cols = row.find('td')\n",
    "        row_dict_data = {}\n",
    "        for i, col in enumerate(cols):\n",
    "            header_name = header_names[i]\n",
    "            row_dict_data[header_name] = col.text\n",
    "        table_data_list.append(row_dict_data)\n",
    "    df = pd.DataFrame(table_data_list)\n",
    "    path = os.path.join(BASE_DIR, file_dir)\n",
    "    os.makedirs(path, exist_ok=True)\n",
    "    filepath = os.path.join(file_dir, f'{name}.csv')\n",
    "    df.to_csv(filepath, index=False)\n",
    "    return True"
   ]
  },
  {
   "cell_type": "code",
   "execution_count": 4,
   "id": "bc97deb5",
   "metadata": {},
   "outputs": [],
   "source": [
    "def run(url, start_year=None, years_ago=0):\n",
    "    if start_year == None:\n",
    "        now = datetime.datetime.now()\n",
    "        start_year = now.year\n",
    "    assert isinstance(start_year, int)\n",
    "    assert isinstance(years_ago, int)\n",
    "    assert (len(f'{start_year}')) == 4\n",
    "    for i in range(0, years_ago+1):\n",
    "        url_result = f'{url}/{start_year}'\n",
    "        finished = parse_and_extract(url_result, name=start_year)\n",
    "        if finished: \n",
    "            print(f'Finished {start_year}')\n",
    "        else:\n",
    "            print(f'{start_year} not found')\n",
    "        start_year -= 1"
   ]
  },
  {
   "cell_type": "code",
   "execution_count": 5,
   "id": "a48ed812",
   "metadata": {},
   "outputs": [],
   "source": [
    "cwd = os.getcwd()\n",
    "BASE_DIR  = os.path.dirname(cwd)\n",
    "\n",
    "name = f'{datetime.datetime.now().year}'\n",
    "table_class = '.imdb-scroll-table'\n",
    "file_dir = 'data'"
   ]
  },
  {
   "cell_type": "code",
   "execution_count": 6,
   "id": "d151de27",
   "metadata": {},
   "outputs": [],
   "source": [
    "url = 'https://www.boxofficemojo.com/year/world'\n",
    "\n",
    "# run(url, years_ago=5)"
   ]
  }
 ],
 "metadata": {
  "kernelspec": {
   "display_name": "Python 3 (ipykernel)",
   "language": "python",
   "name": "python3"
  },
  "language_info": {
   "codemirror_mode": {
    "name": "ipython",
    "version": 3
   },
   "file_extension": ".py",
   "mimetype": "text/x-python",
   "name": "python",
   "nbconvert_exporter": "python",
   "pygments_lexer": "ipython3",
   "version": "3.9.1"
  }
 },
 "nbformat": 4,
 "nbformat_minor": 5
}
