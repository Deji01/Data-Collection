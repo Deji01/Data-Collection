{
 "cells": [
  {
   "cell_type": "code",
   "execution_count": 5,
   "id": "88337826",
   "metadata": {
    "scrolled": true
   },
   "outputs": [],
   "source": [
    "import json\n",
    "import scrapy"
   ]
  },
  {
   "cell_type": "code",
   "execution_count": 6,
   "id": "1a1ca4aa",
   "metadata": {},
   "outputs": [],
   "source": [
    "class NtschoolsSpider(scrapy.Spider):\n",
    "    name = \"ntschools\"\n",
    "    start_urls = [\"http://directory.ntschools.net/#/schools\"]\n",
    "    headers = {\n",
    "        \"Accept\": \"application/json\",\n",
    "        \"Accept-Encoding\": \"gzip, deflate, br\",\n",
    "        \"Accept-Language\": \"en-US,en;q=0.9\",\n",
    "        \"Referer\": \"https://directory.ntschools.net/\",\n",
    "        \"Sec-Fetch-Mode\": \"cors\",\n",
    "        \"Sec-Fetch-Site\": \"same-origin\",\n",
    "        \"User-Agent\": \"Mozilla/5.0 (Windows NT 10.0; Win64; x64) AppleWebKit/537.36 (KHTML, like Gecko) Chrome/98.0.4758.102 Safari/537.36\",\n",
    "        \"X-Requested-With\": \"Fetch\"\n",
    "    }\n",
    "\n",
    "    def parse(self, response):\n",
    "        url = \"https://directory.ntschools.net/api/System/GetAllSchools\"\n",
    "\n",
    "        yield scrapy.Request(url,\n",
    "                             callback=self.parse_api,\n",
    "                             headers=self.headers\n",
    "                             )\n",
    "\n",
    "    def parse_api(self, response):\n",
    "        base_url = \"https://directory.ntschools.net/api/System/GetAllSchools?itSchoolCode=\"\n",
    "        raw_data = response.body\n",
    "        data = json.loads(raw_data)\n",
    "        for school in data:\n",
    "            school_code = school[\"itSchoolCode\"]\n",
    "            school_url = base_url + school_code\n",
    "            request = scrapy.Request(school_url,\n",
    "                                     callback=self.parse_school,\n",
    "                                     headers=self.headers\n",
    "                                     )\n",
    "            yield request\n",
    "\n",
    "    def parse_school(self, response):\n",
    "        raw_data = response.body\n",
    "        data = json.loads(raw_data)\n",
    "        yield {\n",
    "            \"Name\": data[\"name\"],\n",
    "            \"PhysicalAddress\": data[\"physicalAddress\"][\"displayAddress\"],\n",
    "            \"State\": data[\"physicalAddress\"][\"state\"],\n",
    "            \"PostalAddress\": data[\"postalAddress\"][\"displayAddress\"],\n",
    "            \"PostalState\": data[\"postalAddress\"][\"state\"],\n",
    "            \"Region\": data[\"region\"],\n",
    "            \"Directorate\": data[\"directorate\"],\n",
    "            \"Longitude\": data[\"long\"],\n",
    "            \"Latitude\": data[\"lat\"],\n",
    "            \"Email\": data[\"mail\"],\n",
    "            \"Phone\": data[\"telephoneNumber\"],\n",
    "            \"SchoolManagementFirstName\": data[\"schoolManagement\"][1][\"firstName\"],\n",
    "            \"SchoolManagementLastName\": data[\"schoolManagement\"][1][\"lastName\"],\n",
    "            \"SchoolManagementPosition\": data[\"schoolManagement\"][1][\"position\"],\n",
    "            \"SchoolManagementEmail\": data[\"schoolManagement\"][1][\"mail\"],\n",
    "            \"SchoolManagementPhone\": data[\"schoolManagement\"][1][\"telephoneNumber\"]\n",
    "        }\n"
   ]
  },
  {
   "cell_type": "code",
   "execution_count": null,
   "id": "5ed512f4",
   "metadata": {},
   "outputs": [],
   "source": []
  }
 ],
 "metadata": {
  "kernelspec": {
   "display_name": "Python 3 (ipykernel)",
   "language": "python",
   "name": "python3"
  },
  "language_info": {
   "codemirror_mode": {
    "name": "ipython",
    "version": 3
   },
   "file_extension": ".py",
   "mimetype": "text/x-python",
   "name": "python",
   "nbconvert_exporter": "python",
   "pygments_lexer": "ipython3",
   "version": "3.9.1"
  }
 },
 "nbformat": 4,
 "nbformat_minor": 5
}
